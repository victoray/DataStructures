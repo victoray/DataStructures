{
 "cells": [
  {
   "cell_type": "markdown",
   "metadata": {},
   "source": [
    "## File Recursion"
   ]
  },
  {
   "cell_type": "code",
   "execution_count": 92,
   "metadata": {},
   "outputs": [],
   "source": [
    "import os\n",
    "def find_files(suffix, path):\n",
    "    \"\"\"\n",
    "    Args:\n",
    "      suffix(str): suffix of the file name to be found\n",
    "      path(str): path of the file system\n",
    "\n",
    "    Returns:\n",
    "       a list of paths\n",
    "    \"\"\"\n",
    "    final = []\n",
    "    \n",
    "    def check(subpath):\n",
    "        #list of files in the directory\n",
    "        files = os.listdir(subpath)\n",
    "        \n",
    "        #loop through the files and check if it is a directory or file\n",
    "        for file in files:\n",
    "            # if it is a directory, recursively check the subdirectories\n",
    "            new_path = os.path.join(subpath, file)\n",
    "            if os.path.isdir(new_path):\n",
    "                check(new_path)\n",
    "            else:\n",
    "                #check if file ends with the suffix and append it to the list\n",
    "                if file.endswith(suffix):\n",
    "                    final.append(file)\n",
    "     \n",
    "    \n",
    "    check(path)\n",
    "    return final"
   ]
  },
  {
   "cell_type": "code",
   "execution_count": 93,
   "metadata": {},
   "outputs": [
    {
     "data": {
      "text/plain": [
       "['b.h', 'a.h', 't1.h', 'a.h']"
      ]
     },
     "execution_count": 93,
     "metadata": {},
     "output_type": "execute_result"
    }
   ],
   "source": [
    "# /Users/victoray/Downloads/testdir\n",
    "find_files('h', '/Users/victoray/Downloads/testdir')"
   ]
  },
  {
   "cell_type": "code",
   "execution_count": null,
   "metadata": {},
   "outputs": [],
   "source": []
  },
  {
   "cell_type": "code",
   "execution_count": null,
   "metadata": {},
   "outputs": [],
   "source": []
  }
 ],
 "metadata": {
  "kernelspec": {
   "display_name": "PyCharm (DataModelling)",
   "language": "python",
   "name": "pycharm-2eb2d174"
  },
  "language_info": {
   "codemirror_mode": {
    "name": "ipython",
    "version": 3
   },
   "file_extension": ".py",
   "mimetype": "text/x-python",
   "name": "python",
   "nbconvert_exporter": "python",
   "pygments_lexer": "ipython3",
   "version": "3.7.3"
  }
 },
 "nbformat": 4,
 "nbformat_minor": 2
}
