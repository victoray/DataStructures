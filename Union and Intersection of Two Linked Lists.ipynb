{
 "cells": [
  {
   "cell_type": "markdown",
   "metadata": {},
   "source": [
    "## Union and Intersection of Two Linked Lists"
   ]
  },
  {
   "cell_type": "code",
   "execution_count": 54,
   "metadata": {},
   "outputs": [],
   "source": [
    "class Node:\n",
    "    def __init__(self, value):\n",
    "        self.value = value\n",
    "        self.next = None\n",
    "\n",
    "    def __repr__(self):\n",
    "        return str(self.value)\n"
   ]
  },
  {
   "cell_type": "code",
   "execution_count": 55,
   "metadata": {},
   "outputs": [],
   "source": [
    "class LinkedList:\n",
    "    def __init__(self):\n",
    "        self.head = None\n",
    "\n",
    "    def __str__(self):\n",
    "        cur_head = self.head\n",
    "        out_string = \"\"\n",
    "        while cur_head:\n",
    "            out_string += str(cur_head.value) + \" -> \"\n",
    "            cur_head = cur_head.next\n",
    "        return out_string\n",
    "\n",
    "\n",
    "    def append(self, value):\n",
    "\n",
    "        if self.head is None:\n",
    "            self.head = Node(value)\n",
    "            return\n",
    "\n",
    "        node = self.head\n",
    "        while node.next:\n",
    "            node = node.next\n",
    "\n",
    "        node.next = Node(value)\n",
    "\n",
    "    def size(self):\n",
    "        size = 0\n",
    "        node = self.head\n",
    "        while node:\n",
    "            size += 1\n",
    "            node = node.next\n",
    "\n",
    "        return size"
   ]
  },
  {
   "cell_type": "code",
   "execution_count": 56,
   "metadata": {},
   "outputs": [],
   "source": [
    "def toset(linked_list):\n",
    "    output = set()\n",
    "    head = linked_list.head\n",
    "    \n",
    "    while head:\n",
    "        output.add(head.value)\n",
    "        head = head.next\n",
    "        \n",
    "    return output\n",
    "\n",
    "\n",
    "def union(llist_1, llist_2):\n",
    "    # Your Solution Here\n",
    "    set_a = toset(llist_1)\n",
    "    set_b = toset(llist_2)\n",
    "    set_union = set_a.union(set_b)\n",
    "    \n",
    "    final = LinkedList()\n",
    "    \n",
    "    for i in set_union:\n",
    "        final.append(i)\n",
    "    \n",
    "    return final\n",
    "\n",
    "    \n",
    "def intersection(llist_1, llist_2):\n",
    "    # Your Solution Here\n",
    "    set_a = toset(llist_1)\n",
    "    set_b = toset(llist_2)\n",
    "    intersection = set_a.intersection(set_b)\n",
    "    final = LinkedList()\n",
    "    \n",
    "    for i in intersection:\n",
    "        final.append(i)\n",
    "\n",
    "    return final\n",
    "\n",
    "\n"
   ]
  },
  {
   "cell_type": "code",
   "execution_count": 57,
   "metadata": {},
   "outputs": [],
   "source": [
    "def test(list1, list2):\n",
    "    linked_list_1 = LinkedList()\n",
    "    linked_list_2 = LinkedList()\n",
    "    \n",
    "    for i in list1:\n",
    "        linked_list_1.append(i)\n",
    "\n",
    "    for i in list2:\n",
    "        linked_list_2.append(i)\n",
    "        \n",
    "    print (union(linked_list_1,linked_list_2))\n",
    "    print (intersection(linked_list_1,linked_list_2))\n"
   ]
  },
  {
   "cell_type": "code",
   "execution_count": 51,
   "metadata": {},
   "outputs": [
    {
     "name": "stdout",
     "output_type": "stream",
     "text": [
      "32 -> 65 -> 2 -> 35 -> 3 -> 4 -> 6 -> 1 -> 9 -> 11 -> 21 -> \n",
      "4 -> 21 -> 6 -> \n"
     ]
    }
   ],
   "source": [
    "# Test case 1\n",
    "element_1 = [3,2,4,35,6,65,6,4,3,21]\n",
    "element_2 = [6,32,4,9,6,1,11,21,1]\n",
    "test(element_1, element_2)"
   ]
  },
  {
   "cell_type": "code",
   "execution_count": 53,
   "metadata": {},
   "outputs": [
    {
     "name": "stdout",
     "output_type": "stream",
     "text": [
      "65 -> 2 -> 35 -> 3 -> 4 -> 6 -> 1 -> 7 -> 8 -> 9 -> 11 -> 21 -> 23 -> \n",
      "4 -> \n"
     ]
    }
   ],
   "source": [
    "# Test case 2\n",
    "element_1 = [3,2,4,35,6,65,6,4,3,23]\n",
    "element_2 = [1,7,8, 4,9,11,21,1]\n",
    "test(element_1, element_2)"
   ]
  },
  {
   "cell_type": "code",
   "execution_count": null,
   "metadata": {},
   "outputs": [],
   "source": []
  }
 ],
 "metadata": {
  "kernelspec": {
   "display_name": "PyCharm (DataModelling)",
   "language": "python",
   "name": "pycharm-2eb2d174"
  },
  "language_info": {
   "codemirror_mode": {
    "name": "ipython",
    "version": 3
   },
   "file_extension": ".py",
   "mimetype": "text/x-python",
   "name": "python",
   "nbconvert_exporter": "python",
   "pygments_lexer": "ipython3",
   "version": "3.7.3"
  }
 },
 "nbformat": 4,
 "nbformat_minor": 2
}
