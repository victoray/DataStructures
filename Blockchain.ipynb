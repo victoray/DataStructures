{
 "cells": [
  {
   "cell_type": "code",
   "execution_count": 99,
   "metadata": {},
   "outputs": [],
   "source": [
    "import hashlib\n",
    "from datetime import datetime\n",
    "class Block:\n",
    "\n",
    "    def __init__(self, data, timestamp):\n",
    "        self.timestamp = timestamp\n",
    "        self.data = data\n",
    "        self.hash = self.calc_hash()\n",
    "        self.previous_hash = 0\n",
    "        self.next = None\n",
    "        \n",
    "    def calc_hash(self):\n",
    "        sha = hashlib.sha256()\n",
    "        \n",
    "        hash_str = f\"{self.data + str(self.timestamp)}\".encode('utf-8')\n",
    "        \n",
    "        sha.update(hash_str)\n",
    "\n",
    "        return sha.hexdigest()"
   ]
  },
  {
   "cell_type": "code",
   "execution_count": 100,
   "metadata": {},
   "outputs": [],
   "source": [
    "class Blockchain:\n",
    "    current_hash = 0\n",
    "    \n",
    "    def __init__(self):\n",
    "        self.head = None\n",
    "        \n",
    "        \n",
    "    def __str__(self):\n",
    "        cur_head = self.head\n",
    "        out_string = \"\"\n",
    "        while cur_head:\n",
    "            out_string += f'''Data: {cur_head.data}\\nHash: {cur_head.hash}\\nPrevious Hash: {cur_head.previous_hash}\\nTimeStamp: {cur_head.timestamp}\\n\\n'''\n",
    "            cur_head = cur_head.next\n",
    "        return out_string\n",
    "    \n",
    "    def append(self, data, timestamp):\n",
    "\n",
    "        if self.head is None:\n",
    "            self.head = Block(data, timestamp)\n",
    "            global current_hash\n",
    "            current_hash = self.head.hash\n",
    "            self.head.previous_hash = 0\n",
    "            return\n",
    "\n",
    "        node = self.head\n",
    "        while node.next:\n",
    "            node = node.next\n",
    "\n",
    "        node.next = Block(data, timestamp)\n",
    "        node.next.previous_hash = current_hash\n",
    "        current_hash = node.next.hash"
   ]
  },
  {
   "cell_type": "code",
   "execution_count": null,
   "metadata": {},
   "outputs": [],
   "source": [
    "\n"
   ]
  },
  {
   "cell_type": "code",
   "execution_count": 104,
   "metadata": {},
   "outputs": [
    {
     "name": "stdout",
     "output_type": "stream",
     "text": [
      "2019-07-14 19:39:05.616352\n",
      "Data: Odinson\n",
      "Hash: abb2e868001b8bb4425cbc7d5e0634e74d8b591dff052927b77dca4b5d6422af\n",
      "Previous Hash: 0\n",
      "TimeStamp: 2019-07-14 19:39:05.616530\n",
      "\n",
      "Data: Ragnarok\n",
      "Hash: 50b9e3dffab7df09461ccc72fbe89d0715d71d0044b9998917ccb9dae1e731cc\n",
      "Previous Hash: abb2e868001b8bb4425cbc7d5e0634e74d8b591dff052927b77dca4b5d6422af\n",
      "TimeStamp: 2019-07-14 19:39:05.616546\n",
      "\n",
      "Data: Thor\n",
      "Hash: 1ee1114dbe75ff50e66d8dbaf50e63c9dea323c7fa040453e11de333b04f918e\n",
      "Previous Hash: 50b9e3dffab7df09461ccc72fbe89d0715d71d0044b9998917ccb9dae1e731cc\n",
      "TimeStamp: 2019-07-14 19:39:05.616554\n",
      "\n",
      "\n"
     ]
    }
   ],
   "source": [
    "now = datetime.now()\n",
    "timestamp = datetime.timestamp(now)\n",
    "print(now)\n",
    "test = ['Odinson', 'Ragnarok', 'Thor']\n",
    "blockchain = Blockchain()\n",
    "\n",
    "for _ in test:\n",
    "    blockchain.append(_, datetime.now())\n",
    "\n",
    "print(blockchain)"
   ]
  },
  {
   "cell_type": "code",
   "execution_count": 105,
   "metadata": {},
   "outputs": [],
   "source": [
    "blockchain.append('Floki', datetime.now())"
   ]
  },
  {
   "cell_type": "code",
   "execution_count": 106,
   "metadata": {},
   "outputs": [
    {
     "name": "stdout",
     "output_type": "stream",
     "text": [
      "Data: Odinson\n",
      "Hash: abb2e868001b8bb4425cbc7d5e0634e74d8b591dff052927b77dca4b5d6422af\n",
      "Previous Hash: 0\n",
      "TimeStamp: 2019-07-14 19:39:05.616530\n",
      "\n",
      "Data: Ragnarok\n",
      "Hash: 50b9e3dffab7df09461ccc72fbe89d0715d71d0044b9998917ccb9dae1e731cc\n",
      "Previous Hash: abb2e868001b8bb4425cbc7d5e0634e74d8b591dff052927b77dca4b5d6422af\n",
      "TimeStamp: 2019-07-14 19:39:05.616546\n",
      "\n",
      "Data: Thor\n",
      "Hash: 1ee1114dbe75ff50e66d8dbaf50e63c9dea323c7fa040453e11de333b04f918e\n",
      "Previous Hash: 50b9e3dffab7df09461ccc72fbe89d0715d71d0044b9998917ccb9dae1e731cc\n",
      "TimeStamp: 2019-07-14 19:39:05.616554\n",
      "\n",
      "Data: Floki\n",
      "Hash: 28be66ee59b39ed72b32f5afed912bd376feff6b12cae3a4b72058414ac4bdd0\n",
      "Previous Hash: 1ee1114dbe75ff50e66d8dbaf50e63c9dea323c7fa040453e11de333b04f918e\n",
      "TimeStamp: 2019-07-14 19:39:07.631942\n",
      "\n",
      "\n"
     ]
    }
   ],
   "source": [
    "print(blockchain)"
   ]
  },
  {
   "cell_type": "code",
   "execution_count": null,
   "metadata": {},
   "outputs": [],
   "source": []
  }
 ],
 "metadata": {
  "kernelspec": {
   "display_name": "Python 3",
   "language": "python",
   "name": "python3"
  },
  "language_info": {
   "codemirror_mode": {
    "name": "ipython",
    "version": 3
   },
   "file_extension": ".py",
   "mimetype": "text/x-python",
   "name": "python",
   "nbconvert_exporter": "python",
   "pygments_lexer": "ipython3",
   "version": "3.7.3"
  }
 },
 "nbformat": 4,
 "nbformat_minor": 2
}
