{
 "cells": [
  {
   "cell_type": "markdown",
   "metadata": {},
   "source": [
    "## LRU_Cache"
   ]
  },
  {
   "cell_type": "code",
   "execution_count": 33,
   "metadata": {
    "pycharm": {
     "is_executing": false
    }
   },
   "outputs": [],
   "source": [
    "from collections import deque\n",
    "class LRU_Cache(object):\n",
    "\n",
    "    def __init__(self, capacity):\n",
    "        # Initialize class variables\n",
    "        self.cache = {}\n",
    "        self.capacity = capacity\n",
    "        self.temp = deque(maxlen=capacity)\n",
    "\n",
    "\n",
    "    def get(self, key):\n",
    "        # Retrieve item from provided key. Return -1 if nonexistent.\n",
    "        value = self.cache.get(key)\n",
    "        if value:\n",
    "            self.temp.remove([key, value])\n",
    "            self.temp.appendleft([key, value])\n",
    "            return value\n",
    "        return -1\n",
    "\n",
    "    def set(self, key, value):\n",
    "        # Set the value if the key is not present in the cache. If the cache is at capacity remove the oldest item. \n",
    "        if self.cache.get(key) is None:\n",
    "            if self.capacity == 0:\n",
    "                item = self.temp.pop()\n",
    "                del self.cache[item[0]]\n",
    "                self.capacity += 1\n",
    "            \n",
    "            self.temp.appendleft([key, value])\n",
    "            self.cache[key] = value\n",
    "            self.capacity -= 1\n",
    "        \n",
    "        \n",
    "        \n",
    "        \n",
    "        \n",
    "            \n",
    "            "
   ]
  },
  {
   "cell_type": "code",
   "execution_count": 43,
   "metadata": {
    "pycharm": {
     "name": "#%%\n",
     "is_executing": false
    }
   },
   "outputs": [
    {
     "name": "stdout",
     "text": [
      "{1: 1, 2: 2, 4: 4, 5: 5, 6: 6}\n-1\ndeque([[5, 5], [2, 2], [1, 1], [6, 6], [4, 4]], maxlen=5)\n"
     ],
     "output_type": "stream"
    }
   ],
   "source": [
    "our_cache = LRU_Cache(5)\n",
    "\n",
    "our_cache.set(1, 1);\n",
    "our_cache.set(2, 2);\n",
    "our_cache.set(3, 3);\n",
    "our_cache.set(4, 4);\n",
    "\n",
    "      # returns -1 because 9 is not present in the cache\n",
    "\n",
    "\n",
    "\n",
    "our_cache.set(1, 1);\n",
    "our_cache.set(2, 2);\n",
    "our_cache.set(3, 3);\n",
    "our_cache.set(4, 4);\n",
    "\n",
    "our_cache.get(1)\n",
    "our_cache.get(2)\n",
    "our_cache.set(5, 5)\n",
    "our_cache.set(6, 6)\n",
    "\n",
    "\n",
    "our_cache.get(1)\n",
    "our_cache.get(2)\n",
    "\n",
    "our_cache.get(5)\n",
    "print(our_cache.cache) \n",
    "print(our_cache.get(3))\n",
    "\n",
    "\n",
    "print(our_cache.temp)\n"
   ]
  },
  {
   "cell_type": "code",
   "execution_count": null,
   "metadata": {},
   "outputs": [],
   "source": []
  },
  {
   "cell_type": "code",
   "execution_count": null,
   "metadata": {},
   "outputs": [],
   "source": []
  }
 ],
 "metadata": {
  "kernelspec": {
   "display_name": "Python 3",
   "language": "python",
   "name": "python3"
  },
  "language_info": {
   "codemirror_mode": {
    "name": "ipython",
    "version": 3
   },
   "file_extension": ".py",
   "mimetype": "text/x-python",
   "name": "python",
   "nbconvert_exporter": "python",
   "pygments_lexer": "ipython3",
   "version": "3.7.3"
  },
  "pycharm": {
   "stem_cell": {
    "cell_type": "raw",
    "source": [],
    "metadata": {
     "collapsed": false
    }
   }
  }
 },
 "nbformat": 4,
 "nbformat_minor": 1
}